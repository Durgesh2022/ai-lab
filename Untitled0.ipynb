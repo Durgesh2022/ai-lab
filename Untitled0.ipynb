{
  "nbformat": 4,
  "nbformat_minor": 0,
  "metadata": {
    "colab": {
      "provenance": [],
      "authorship_tag": "ABX9TyPGVgewSzrD9IZqdQrS6MKD",
      "include_colab_link": true
    },
    "kernelspec": {
      "name": "python3",
      "display_name": "Python 3"
    },
    "language_info": {
      "name": "python"
    }
  },
  "cells": [
    {
      "cell_type": "markdown",
      "metadata": {
        "id": "view-in-github",
        "colab_type": "text"
      },
      "source": [
        "<a href=\"https://colab.research.google.com/github/Durgesh2022/ai-lab/blob/main/Untitled0.ipynb\" target=\"_parent\"><img src=\"https://colab.research.google.com/assets/colab-badge.svg\" alt=\"Open In Colab\"/></a>"
      ]
    },
    {
      "cell_type": "code",
      "execution_count": 1,
      "metadata": {
        "colab": {
          "base_uri": "https://localhost:8080/"
        },
        "id": "epWnPaewkX77",
        "outputId": "9bdbe26f-da4c-4f5f-cbbd-dd2647dc2067"
      },
      "outputs": [
        {
          "output_type": "stream",
          "name": "stdout",
          "text": [
            "1\n",
            "0\n"
          ]
        }
      ],
      "source": [
        "# NOT perceptron\n",
        "\n",
        "import numpy as np\n",
        "\n",
        "class Perceptron:\n",
        "    def __init__(self, learning_rate=0.1, n_epochs=1000):\n",
        "        self.learning_rate = learning_rate\n",
        "        self.n_epochs = n_epochs\n",
        "        self.weights = None\n",
        "        self.bias = None\n",
        "\n",
        "    def fit(self, features, labels):\n",
        "        n_samples, n_features = features.shape\n",
        "\n",
        "        self.weights = np.zeros(n_features)\n",
        "        self.bias = 0\n",
        "\n",
        "        for _ in range(self.n_epochs):\n",
        "            for index, feature_vector in enumerate(features):\n",
        "                linear_combination = np.dot(feature_vector, self.weights) + self.bias\n",
        "                predicted_label = self.activation_function(linear_combination)\n",
        "\n",
        "                update_amount = self.learning_rate * (labels[index] - predicted_label)\n",
        "                self.weights += update_amount * feature_vector\n",
        "                self.bias += update_amount\n",
        "\n",
        "    def activation_function(self, input_value):\n",
        "        return 1 if input_value >= 0 else 0\n",
        "\n",
        "    def predict(self, single_input):\n",
        "        input_vector = np.array([single_input])\n",
        "        linear_combination = np.dot(input_vector, self.weights) + self.bias\n",
        "        return self.activation_function(linear_combination)\n",
        "\n",
        "\n",
        "features = np.array([[0],\n",
        "                     [1]])\n",
        "labels = np.array([1, 0])\n",
        "\n",
        "perceptron = Perceptron(learning_rate=0.1, n_epochs=10)\n",
        "perceptron.fit(features, labels)\n",
        "\n",
        "def predict_not(single_input):\n",
        "    return perceptron.predict(single_input)\n",
        "\n",
        "user_input = int(input())\n",
        "result = predict_not(user_input)\n",
        "print(result)\n"
      ]
    }
  ]
}